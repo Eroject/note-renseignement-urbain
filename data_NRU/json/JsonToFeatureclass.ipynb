{
 "cells": [
  {
   "cell_type": "code",
   "execution_count": 1,
   "metadata": {},
   "outputs": [],
   "source": [
    "from arcpy import *\n",
    "from arcpy.mapping import *\n",
    "import os\n",
    "import json\n",
    "import pandas as pd\n",
    "import io"
   ]
  },
  {
   "cell_type": "code",
   "execution_count": null,
   "metadata": {},
   "outputs": [],
   "source": [
    "def JsonToFeatureclass(jso,PersonalGDB):\n",
    "    L=jso.split('\\\\')\n",
    "    nomdelacouche=L[-1].split('.')[0]\n",
    "    field_interdi=['OBJECTID','shape','shape_length','shape_Area','ID','ZONE']\n",
    "    field_remplacant=['OBJECTID_copy','shape_copy','shape_length_copy','shape_Area_copy','ID_copy','ZONE_COPY']\n",
    "    with io.open(jso,encoding='UTF-8') as j:\n",
    "        d=json.load(j)\n",
    "    L=[]\n",
    "    for cle in d['features']:\n",
    "        A=Array()\n",
    "        for pt in cle['geometry']['rings'][0] :\n",
    "            A.append(Point(pt[0],pt[1],0,0))\n",
    "        cle['attributes']['shape@']=A\n",
    "        L.append(cle['attributes'])\n",
    "    try:\n",
    "        CreateFeatureclass_management(out_path=PersonalGDB, out_name=nomdelacouche, geometry_type='POLYGON',spatial_reference=d['spatialReference']['wkid'])\n",
    "    except:\n",
    "        Delete_management(os.path.join(PersonalGDB,nomdelacouche))\n",
    "        CreateFeatureclass_management(out_path=PersonalGDB, out_name=nomdelacouche, geometry_type='POLYGON',spatial_reference=d['spatialReference']['wkid'])\n",
    "\n",
    "    typ={}\n",
    "    typ['OID']='LONG'\n",
    "    typ['Double']='DOUBLE'\n",
    "    typ['String']='TEXT'\n",
    "    for field in d['fields']:\n",
    "        if field['name'] not in field_interdi: \n",
    "            AddField_management(in_table=os.path.join(PersonalGDB,nomdelacouche), field_name=field['name'], field_type=typ[field['type'][13:]], field_alias=field['alias'])\n",
    "        else:\n",
    "            indice=field_interdi.index(field['name'])\n",
    "            AddField_management(in_table=os.path.join(PersonalGDB,nomdelacouche), field_name=field_remplacant[indice], field_type=typ[field['type'][13:]], field_alias=field['alias'])\n",
    "\n",
    "            \n",
    "    interdit=['activationTime','changeTime','creationTime','shape@']\n",
    "    for i in range(0,len(d['features'])):\n",
    "        champ=[]\n",
    "        fields=[]\n",
    "        for j in range(0,16) :\n",
    "            if L[i].keys()[j] not in interdit:\n",
    "                if L[i].keys()[j] not in field_interdi:\n",
    "                    champ.append(L[i][(L[i].keys())[j]])\n",
    "                    fields.append(L[i].keys()[j])\n",
    "                else:\n",
    "                    indice2=field_interdi.index(L[i].keys()[j])\n",
    "                    champ.append(L[i][(L[i].keys())[j]])\n",
    "                    fields.append(field_remplacant[indice2])\n",
    "        champ.append(Polygon(L[i]['shape@']))\n",
    "        fields.append('shape@')\n",
    "        with da.InsertCursor(os.path.join(PersonalGDB,nomdelacouche),fields) as cursor:\n",
    "            cursor.insertRow(champ)"
   ]
  }
 ],
 "metadata": {
  "kernelspec": {
   "display_name": "Python 2",
   "language": "python",
   "name": "python2"
  },
  "language_info": {
   "codemirror_mode": {
    "name": "ipython",
    "version": 2
   },
   "file_extension": ".py",
   "mimetype": "text/x-python",
   "name": "python",
   "nbconvert_exporter": "python",
   "pygments_lexer": "ipython2",
   "version": "2.7.16"
  }
 },
 "nbformat": 4,
 "nbformat_minor": 2
}
